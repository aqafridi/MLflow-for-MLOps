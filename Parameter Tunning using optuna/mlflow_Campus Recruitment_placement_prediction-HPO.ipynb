{
 "cells": [
  {
   "cell_type": "markdown",
   "metadata": {},
   "source": [
    "# Model Experimentation Tracking (MLFow) - Hyperparamter Optimization"
   ]
  },
  {
   "cell_type": "markdown",
   "metadata": {},
   "source": [
    "Record and query experiments: Code, data, config, results, parameters, metrics\n",
    "\n",
    "![Data](images/MLflow_Model_experimentation.png)"
   ]
  },
  {
   "cell_type": "markdown",
   "metadata": {
    "id": "FQr7W0gHGj9D"
   },
   "source": [
    "## Import Packages"
   ]
  },
  {
   "cell_type": "code",
   "execution_count": 2,
   "metadata": {
    "colab": {
     "base_uri": "https://localhost:8080/",
     "height": 42
    },
    "executionInfo": {
     "elapsed": 4760,
     "status": "ok",
     "timestamp": 1555806967841,
     "user": {
      "displayName": "Vivek Kumar",
      "photoUrl": "https://lh6.googleusercontent.com/-cP-Bpvpzsbc/AAAAAAAAAAI/AAAAAAAAD78/l6XcNlPEAnc/s64/photo.jpg",
      "userId": "15067720337527944902"
     },
     "user_tz": -330
    },
    "id": "wSeHWATZsddI",
    "outputId": "bb370675-82bf-4829-815f-49404031ec9f"
   },
   "outputs": [],
   "source": [
    "# Data analysis library\n",
    "import numpy as np\n",
    "import pandas as pd\n",
    "import joblib\n",
    "\n",
    "# Machine Learning library\n",
    "import sklearn\n",
    "from sklearn.metrics import roc_curve, auc, accuracy_score, plot_confusion_matrix, plot_roc_curve\n",
    "from sklearn.preprocessing import LabelEncoder\n",
    "from sklearn.model_selection import train_test_split\n",
    "import lightgbm as lgb\n",
    "from lightgbm import LGBMClassifier\n",
    "from lightgbm import plot_importance, plot_metric\n",
    "\n",
    "# Model experimentation library\n",
    "import mlflow\n",
    "import mlflow.lightgbm\n",
    "from mlflow.tracking import MlflowClient\n",
    "\n",
    "# Hyperparameter tunning library\n",
    "import optuna\n",
    "\n",
    "# Plotting library\n",
    "import matplotlib.pyplot as plt\n",
    "# Prevent figures from displaying by turning interactive mode off using the function\n",
    "plt.ioff()\n",
    "import warnings\n",
    "warnings.filterwarnings(\"ignore\")"
   ]
  },
  {
   "cell_type": "code",
   "execution_count": 3,
   "metadata": {},
   "outputs": [
    {
     "name": "stdout",
     "output_type": "stream",
     "text": [
      "Numpy version is 1.21.5\n",
      "Pandas version is 1.4.2\n",
      "sklearn version is 1.0.2\n",
      "mlflow version is 1.28.0\n",
      "joblib version is 1.1.0\n",
      "optuna version is 3.0.2\n"
     ]
    }
   ],
   "source": [
    "print(f'Numpy version is {np.__version__}')\n",
    "print(f'Pandas version is {pd.__version__}')\n",
    "print(f'sklearn version is {sklearn.__version__}')\n",
    "print(f'mlflow version is {mlflow.__version__}')\n",
    "print(f'joblib version is {joblib.__version__}')\n",
    "print(f'optuna version is {optuna.__version__}')"
   ]
  },
  {
   "cell_type": "markdown",
   "metadata": {},
   "source": [
    "## Download data \n",
    "\n",
    "### Campus Recruitment Dataset\n",
    "#### Academic and Employability Factors influencing placement\n",
    "\n",
    "https://www.kaggle.com/benroshan/factors-affecting-campus-placement"
   ]
  },
  {
   "cell_type": "markdown",
   "metadata": {
    "id": "zNvnWiStLMT4"
   },
   "source": [
    "## Load data"
   ]
  },
  {
   "cell_type": "code",
   "execution_count": 6,
   "metadata": {
    "colab": {
     "base_uri": "https://localhost:8080/",
     "height": 50
    },
    "executionInfo": {
     "elapsed": 4689,
     "status": "ok",
     "timestamp": 1555809124644,
     "user": {
      "displayName": "Vivek Kumar",
      "photoUrl": "https://lh6.googleusercontent.com/-cP-Bpvpzsbc/AAAAAAAAAAI/AAAAAAAAD78/l6XcNlPEAnc/s64/photo.jpg",
      "userId": "15067720337527944902"
     },
     "user_tz": -330
    },
    "id": "Z1EBPLhVNnZO",
    "outputId": "8cbe010c-4d26-4021-c725-73350fe14cb3"
   },
   "outputs": [
    {
     "name": "stdout",
     "output_type": "stream",
     "text": [
      "The dataset has 215 samples with 15 features.\n"
     ]
    }
   ],
   "source": [
    "## Files\n",
    "data_file = 'Placement_Data_Full_Class.csv'\n",
    "\n",
    "# Load train loan dataset \n",
    "try:\n",
    "    data = pd.read_csv(data_file)\n",
    "    print(\"The dataset has {} samples with {} features.\".format(*data.shape))\n",
    "except:\n",
    "    print(\"The dataset could not be loaded. Is the dataset missing?\")"
   ]
  },
  {
   "cell_type": "markdown",
   "metadata": {
    "id": "THxhQRYOOxkZ"
   },
   "source": [
    "## Introduction To The Data"
   ]
  },
  {
   "cell_type": "code",
   "execution_count": 7,
   "metadata": {
    "colab": {
     "base_uri": "https://localhost:8080/",
     "height": 246
    },
    "executionInfo": {
     "elapsed": 2730,
     "status": "ok",
     "timestamp": 1555756161637,
     "user": {
      "displayName": "Vivek Kumar",
      "photoUrl": "https://lh6.googleusercontent.com/-cP-Bpvpzsbc/AAAAAAAAAAI/AAAAAAAAD78/l6XcNlPEAnc/s64/photo.jpg",
      "userId": "15067720337527944902"
     },
     "user_tz": -330
    },
    "id": "ImRdfUXusm7O",
    "outputId": "bcae0e64-9146-4df1-d98a-5f2c42c05789"
   },
   "outputs": [
    {
     "data": {
      "text/html": [
       "<div>\n",
       "<style scoped>\n",
       "    .dataframe tbody tr th:only-of-type {\n",
       "        vertical-align: middle;\n",
       "    }\n",
       "\n",
       "    .dataframe tbody tr th {\n",
       "        vertical-align: top;\n",
       "    }\n",
       "\n",
       "    .dataframe thead th {\n",
       "        text-align: right;\n",
       "    }\n",
       "</style>\n",
       "<table border=\"1\" class=\"dataframe\">\n",
       "  <thead>\n",
       "    <tr style=\"text-align: right;\">\n",
       "      <th></th>\n",
       "      <th>sl_no</th>\n",
       "      <th>gender</th>\n",
       "      <th>ssc_p</th>\n",
       "      <th>ssc_b</th>\n",
       "      <th>hsc_p</th>\n",
       "      <th>hsc_b</th>\n",
       "      <th>hsc_s</th>\n",
       "      <th>degree_p</th>\n",
       "      <th>degree_t</th>\n",
       "      <th>workex</th>\n",
       "      <th>etest_p</th>\n",
       "      <th>specialisation</th>\n",
       "      <th>mba_p</th>\n",
       "      <th>status</th>\n",
       "      <th>salary</th>\n",
       "    </tr>\n",
       "  </thead>\n",
       "  <tbody>\n",
       "    <tr>\n",
       "      <th>0</th>\n",
       "      <td>1</td>\n",
       "      <td>M</td>\n",
       "      <td>67.00</td>\n",
       "      <td>Others</td>\n",
       "      <td>91.00</td>\n",
       "      <td>Others</td>\n",
       "      <td>Commerce</td>\n",
       "      <td>58.00</td>\n",
       "      <td>Sci&amp;Tech</td>\n",
       "      <td>No</td>\n",
       "      <td>55.0</td>\n",
       "      <td>Mkt&amp;HR</td>\n",
       "      <td>58.80</td>\n",
       "      <td>Placed</td>\n",
       "      <td>270000.0</td>\n",
       "    </tr>\n",
       "    <tr>\n",
       "      <th>1</th>\n",
       "      <td>2</td>\n",
       "      <td>M</td>\n",
       "      <td>79.33</td>\n",
       "      <td>Central</td>\n",
       "      <td>78.33</td>\n",
       "      <td>Others</td>\n",
       "      <td>Science</td>\n",
       "      <td>77.48</td>\n",
       "      <td>Sci&amp;Tech</td>\n",
       "      <td>Yes</td>\n",
       "      <td>86.5</td>\n",
       "      <td>Mkt&amp;Fin</td>\n",
       "      <td>66.28</td>\n",
       "      <td>Placed</td>\n",
       "      <td>200000.0</td>\n",
       "    </tr>\n",
       "    <tr>\n",
       "      <th>2</th>\n",
       "      <td>3</td>\n",
       "      <td>M</td>\n",
       "      <td>65.00</td>\n",
       "      <td>Central</td>\n",
       "      <td>68.00</td>\n",
       "      <td>Central</td>\n",
       "      <td>Arts</td>\n",
       "      <td>64.00</td>\n",
       "      <td>Comm&amp;Mgmt</td>\n",
       "      <td>No</td>\n",
       "      <td>75.0</td>\n",
       "      <td>Mkt&amp;Fin</td>\n",
       "      <td>57.80</td>\n",
       "      <td>Placed</td>\n",
       "      <td>250000.0</td>\n",
       "    </tr>\n",
       "    <tr>\n",
       "      <th>3</th>\n",
       "      <td>4</td>\n",
       "      <td>M</td>\n",
       "      <td>56.00</td>\n",
       "      <td>Central</td>\n",
       "      <td>52.00</td>\n",
       "      <td>Central</td>\n",
       "      <td>Science</td>\n",
       "      <td>52.00</td>\n",
       "      <td>Sci&amp;Tech</td>\n",
       "      <td>No</td>\n",
       "      <td>66.0</td>\n",
       "      <td>Mkt&amp;HR</td>\n",
       "      <td>59.43</td>\n",
       "      <td>Not Placed</td>\n",
       "      <td>NaN</td>\n",
       "    </tr>\n",
       "    <tr>\n",
       "      <th>4</th>\n",
       "      <td>5</td>\n",
       "      <td>M</td>\n",
       "      <td>85.80</td>\n",
       "      <td>Central</td>\n",
       "      <td>73.60</td>\n",
       "      <td>Central</td>\n",
       "      <td>Commerce</td>\n",
       "      <td>73.30</td>\n",
       "      <td>Comm&amp;Mgmt</td>\n",
       "      <td>No</td>\n",
       "      <td>96.8</td>\n",
       "      <td>Mkt&amp;Fin</td>\n",
       "      <td>55.50</td>\n",
       "      <td>Placed</td>\n",
       "      <td>425000.0</td>\n",
       "    </tr>\n",
       "  </tbody>\n",
       "</table>\n",
       "</div>"
      ],
      "text/plain": [
       "   sl_no gender  ssc_p    ssc_b  hsc_p    hsc_b     hsc_s  degree_p  \\\n",
       "0      1      M  67.00   Others  91.00   Others  Commerce     58.00   \n",
       "1      2      M  79.33  Central  78.33   Others   Science     77.48   \n",
       "2      3      M  65.00  Central  68.00  Central      Arts     64.00   \n",
       "3      4      M  56.00  Central  52.00  Central   Science     52.00   \n",
       "4      5      M  85.80  Central  73.60  Central  Commerce     73.30   \n",
       "\n",
       "    degree_t workex  etest_p specialisation  mba_p      status    salary  \n",
       "0   Sci&Tech     No     55.0         Mkt&HR  58.80      Placed  270000.0  \n",
       "1   Sci&Tech    Yes     86.5        Mkt&Fin  66.28      Placed  200000.0  \n",
       "2  Comm&Mgmt     No     75.0        Mkt&Fin  57.80      Placed  250000.0  \n",
       "3   Sci&Tech     No     66.0         Mkt&HR  59.43  Not Placed       NaN  \n",
       "4  Comm&Mgmt     No     96.8        Mkt&Fin  55.50      Placed  425000.0  "
      ]
     },
     "execution_count": 7,
     "metadata": {},
     "output_type": "execute_result"
    }
   ],
   "source": [
    "data.head()"
   ]
  },
  {
   "cell_type": "code",
   "execution_count": 8,
   "metadata": {
    "colab": {
     "base_uri": "https://localhost:8080/",
     "height": 70
    },
    "executionInfo": {
     "elapsed": 774,
     "status": "ok",
     "timestamp": 1555469230652,
     "user": {
      "displayName": "Vivek Kumar",
      "photoUrl": "https://lh6.googleusercontent.com/-cP-Bpvpzsbc/AAAAAAAAAAI/AAAAAAAAD78/l6XcNlPEAnc/s64/photo.jpg",
      "userId": "15067720337527944902"
     },
     "user_tz": -330
    },
    "id": "qzxmfXGtJ1Jx",
    "outputId": "cfe529f5-602d-480c-8aa3-5de57a21e997"
   },
   "outputs": [
    {
     "data": {
      "text/plain": [
       "Placed        148\n",
       "Not Placed     67\n",
       "Name: status, dtype: int64"
      ]
     },
     "execution_count": 8,
     "metadata": {},
     "output_type": "execute_result"
    }
   ],
   "source": [
    "data['status'].value_counts()"
   ]
  },
  {
   "cell_type": "markdown",
   "metadata": {},
   "source": [
    "## Start MLflow UI\n",
    "\n",
    "Start **mlflow ui** comman from the command prompt"
   ]
  },
  {
   "cell_type": "code",
   "execution_count": 6,
   "metadata": {},
   "outputs": [
    {
     "name": "stdout",
     "output_type": "stream",
     "text": [
      "^C\n"
     ]
    }
   ],
   "source": [
    "!mlflow ui"
   ]
  },
  {
   "cell_type": "markdown",
   "metadata": {},
   "source": [
    "## Initialize MLflow\n",
    "\n",
    "**Experiments** : You can organize runs into experiments, which group together runs for a specific task. \n",
    "\n",
    "**Tracking URI**: MLflow runs can be recorded to local files, to a database, or remotely to a tracking server. By default, the MLflow Python API logs runs locally to files in an mlruns directory wherever you ran your program\n",
    "\n",
    "#### MLflow Tracking Servers \n",
    "MLflow tracking server has two components for storage: a **backend store** and an **artifact store**\n",
    "\n",
    "The **backend store** is where MLflow Tracking Server stores experiment and run metadata as well as params, metrics, and tags for runs. MLflow supports two types of backend stores: **file store and database-backed store**.\n",
    "\n",
    "The **artifact store** is a location suitable for large data (such as an S3 bucket or shared NFS file system) and is where clients log their artifact output (for example, models).\n",
    "\n",
    "    Amazon S3 and S3-compatible storage\n",
    "    Azure Blob Storage\n",
    "    Google Cloud Storage\n",
    "    FTP server\n",
    "    SFTP Server\n",
    "    NFS\n",
    "    HDFS"
   ]
  },
  {
   "cell_type": "code",
   "execution_count": 9,
   "metadata": {},
   "outputs": [],
   "source": [
    "experiment_name = \"campus_recruitment_experiments_v2\"\n",
    "artifact_repository = './mlflow-run'\n",
    "\n",
    "# Provide uri and connect to your tracking server\n",
    "mlflow.set_tracking_uri('http://127.0.0.1:5000/')\n",
    "\n",
    "# Initialize client\n",
    "client = MlflowClient()\n",
    "\n",
    "# If experiment doesn't exist then it will create new\n",
    "# else it will take the experiment id and will use to to run the experiments\n",
    "try:\n",
    "    # Create experiment \n",
    "    experiment_id = client.create_experiment(experiment_name, artifact_location=artifact_repository)\n",
    "except:\n",
    "    # Get the experiment id if it already exists\n",
    "    experiment_id = client.get_experiment_by_name(experiment_name).experiment_id"
   ]
  },
  {
   "cell_type": "markdown",
   "metadata": {},
   "source": [
    "## Prepare data for model training"
   ]
  },
  {
   "cell_type": "code",
   "execution_count": 10,
   "metadata": {},
   "outputs": [],
   "source": [
    "exclude_feature = ['sl_no', 'salary', 'status']\n",
    "# Define Target columns\n",
    "target = data['status'].map({\"Placed\": 0 , \"Not Placed\": 1})\n",
    "\n",
    "# Define numeric and categorical features\n",
    "numeric_columns = data.select_dtypes(include=['int64', 'float64']).columns.tolist()\n",
    "categorical_columns = data.select_dtypes(include=['object']).columns.tolist()\n",
    "numeric_features = [col for col in numeric_columns if col not in exclude_feature]\n",
    "categorical_features = [col for col in categorical_columns if col not in exclude_feature]\n",
    "\n",
    "# Define final feature list for training and validation\n",
    "features = numeric_features + categorical_features\n",
    "# Final data for training and validation\n",
    "data = data[features]\n",
    "data = data.fillna(0)\n",
    "\n",
    "# Split data in train and vlaidation\n",
    "X_train, X_valid, y_train, y_valid = train_test_split(data, target, test_size=0.15, random_state=10)\n",
    "\n",
    "# Perform label encoding for categorical variable\n",
    "for feature in categorical_features:\n",
    "    le = LabelEncoder()\n",
    "    le.fit(X_train.loc[:, feature])\n",
    "    X_train.loc[:, feature] = le.transform(X_train.loc[:, feature])\n",
    "    X_valid.loc[:, feature] = le.transform(X_valid.loc[:, feature])"
   ]
  },
  {
   "cell_type": "markdown",
   "metadata": {},
   "source": [
    "## Lightgbm Hyperparameter tunning + MLFlow for model tracking"
   ]
  },
  {
   "cell_type": "markdown",
   "metadata": {},
   "source": [
    "### Define model training function to train and track model results"
   ]
  },
  {
   "cell_type": "code",
   "execution_count": 12,
   "metadata": {},
   "outputs": [],
   "source": [
    "def model_training_tracking(params):\n",
    "    # Launching Multiple Runs in One Program.This is easy to do because the ActiveRun object returned by mlflow.start_run() is a \n",
    "    # Python context manager. You can “scope” each run to just one block of code as follows:\n",
    "    with mlflow.start_run(experiment_id=experiment_id, run_name='Lightgbm_model') as run:\n",
    "        # Get run id \n",
    "        run_id = run.info.run_uuid\n",
    "        \n",
    "        # Set the notes for the run\n",
    "        MlflowClient().set_tag(run_id,\n",
    "                               \"mlflow.note.content\",\n",
    "                               \"This is experiment for hyperparameter optimzation for lightgbm models for the Campus Recruitment Dataset\")\n",
    "        \n",
    "        # Define customer tag\n",
    "        tags = {\"Application\": \"Payment Monitoring Platform\",\n",
    "                \"release.candidate\": \"PMP\",\n",
    "                \"release.version\": \"2.2.0\"}\n",
    "\n",
    "        # Set Tag\n",
    "        mlflow.set_tags(tags)\n",
    "                        \n",
    "        # Log python environment details\n",
    "        mlflow.log_artifact('requirements.txt')\n",
    "        \n",
    "        # logging params\n",
    "        mlflow.log_params(params)\n",
    "\n",
    "        # Perform model training\n",
    "        lgb_clf = LGBMClassifier(**params)\n",
    "        lgb_clf.fit(X_train, y_train, \n",
    "                    eval_set = [(X_train, y_train), (X_valid, y_valid)], \n",
    "                    early_stopping_rounds=50,\n",
    "                    verbose=20)\n",
    "\n",
    "        # Log model artifacts\n",
    "        mlflow.sklearn.log_model(lgb_clf, \"model\")\n",
    "\n",
    "        # Perform model evaluation \n",
    "        lgb_valid_prediction = lgb_clf.predict_proba(X_valid)[:, 1]\n",
    "        fpr, tpr, thresholds = roc_curve(y_valid, lgb_valid_prediction)\n",
    "        roc_auc = auc(fpr, tpr) # compute area under the curve\n",
    "        print(\"=====================================\")\n",
    "        print(\"Validation AUC:{}\".format(roc_auc))\n",
    "        print(\"=====================================\")   \n",
    "\n",
    "        # log metrics\n",
    "        mlflow.log_metrics({\"Validation_AUC\": roc_auc})\n",
    "\n",
    "        # Plot and save feature importance details\n",
    "        ax = plot_importance(lgb_clf, height=0.4)\n",
    "        filename = './images/lgb_validation_feature_importance.png'\n",
    "        plt.savefig(filename)\n",
    "        # log model artifacts\n",
    "        mlflow.log_artifact(filename)\n",
    "\n",
    "        ax = plot_metric(lgb_clf.evals_result_)\n",
    "        filename = './images/lgb_validation_metrics_comparision.png'\n",
    "        plt.savefig(filename)\n",
    "        # log model artifacts\n",
    "        mlflow.log_artifact(filename)\n",
    "\n",
    "        # Plot and save metrics details    \n",
    "        plot_confusion_matrix(lgb_clf, X_valid, y_valid, \n",
    "                              display_labels=['Placed', 'Not Placed'],\n",
    "                              cmap='magma')\n",
    "        plt.title('Confusion Matrix')\n",
    "        filename = './images/lgb_validation_confusion_matrix.png'\n",
    "        plt.savefig(filename)\n",
    "        # log model artifacts\n",
    "        mlflow.log_artifact(filename)\n",
    "\n",
    "        # Plot and save AUC details  \n",
    "        plot_roc_curve(lgb_clf, X_valid, y_valid, name='Validation')\n",
    "        plt.title('ROC AUC Curve')\n",
    "        filename = './images/lgb_validation_roc_curve.png'\n",
    "        plt.savefig(filename)\n",
    "        # log model artifacts\n",
    "        mlflow.log_artifact(filename)\n",
    "        \n",
    "        return roc_auc"
   ]
  },
  {
   "cell_type": "markdown",
   "metadata": {},
   "source": [
    "### Define an objective function to be maximized"
   ]
  },
  {
   "cell_type": "code",
   "execution_count": 13,
   "metadata": {},
   "outputs": [],
   "source": [
    "def objective(trial):\n",
    "\n",
    "    param = {\n",
    "        \"objective\": \"binary\",\n",
    "        \"metric\": \"auc\",\n",
    "        \"learning_rate\": trial.suggest_float(\"learning_rate\", 1e-2, 1e-1, log=True),\n",
    "        \"colsample_bytree\": trial.suggest_float(\"colsample_bytree\", 0.4, 1.0),\n",
    "        \"subsample\": trial.suggest_float(\"subsample\", 0.4, 1.0),\n",
    "        \"random_state\": 42,\n",
    "    }\n",
    "    \n",
    "    auc = model_training_tracking(param)\n",
    "    return auc"
   ]
  },
  {
   "cell_type": "markdown",
   "metadata": {},
   "source": [
    "### Create a study object and optimize the objective function"
   ]
  },
  {
   "cell_type": "code",
   "execution_count": 18,
   "metadata": {},
   "outputs": [
    {
     "name": "stderr",
     "output_type": "stream",
     "text": [
      "\u001b[32m[I 2022-09-15 16:47:45,996]\u001b[0m A new study created in memory with name: no-name-617d02ef-a277-4cdc-9e8e-12bf8c63cee3\u001b[0m\n"
     ]
    },
    {
     "name": "stdout",
     "output_type": "stream",
     "text": [
      "[20]\ttraining's auc: 0.98435\tvalid_1's auc: 0.898496\n",
      "[40]\ttraining's auc: 0.996051\tvalid_1's auc: 0.902256\n",
      "[60]\ttraining's auc: 0.999269\tvalid_1's auc: 0.906015\n",
      "=====================================\n",
      "Validation AUC:0.9172932330827067\n",
      "=====================================\n"
     ]
    },
    {
     "name": "stderr",
     "output_type": "stream",
     "text": [
      "\u001b[32m[I 2022-09-15 16:47:56,094]\u001b[0m Trial 0 finished with value: 0.9172932330827067 and parameters: {'learning_rate': 0.0792807017079039, 'colsample_bytree': 0.9932833411854791, 'subsample': 0.7063891578872163}. Best is trial 0 with value: 0.9172932330827067.\u001b[0m\n"
     ]
    },
    {
     "name": "stdout",
     "output_type": "stream",
     "text": [
      "[20]\ttraining's auc: 0.982887\tvalid_1's auc: 0.87218\n",
      "[40]\ttraining's auc: 0.994735\tvalid_1's auc: 0.902256\n",
      "=====================================\n",
      "Validation AUC:0.9060150375939849\n",
      "=====================================\n"
     ]
    },
    {
     "name": "stderr",
     "output_type": "stream",
     "text": [
      "\u001b[32m[I 2022-09-15 16:48:03,970]\u001b[0m Trial 1 finished with value: 0.9060150375939849 and parameters: {'learning_rate': 0.09935115666239229, 'colsample_bytree': 0.5143539035235656, 'subsample': 0.6441054702962785}. Best is trial 0 with value: 0.9172932330827067.\u001b[0m\n"
     ]
    },
    {
     "name": "stdout",
     "output_type": "stream",
     "text": [
      "[20]\ttraining's auc: 0.964239\tvalid_1's auc: 0.853383\n",
      "[40]\ttraining's auc: 0.973453\tvalid_1's auc: 0.857143\n",
      "[60]\ttraining's auc: 0.976964\tvalid_1's auc: 0.887218\n",
      "[80]\ttraining's auc: 0.98062\tvalid_1's auc: 0.898496\n",
      "[100]\ttraining's auc: 0.983033\tvalid_1's auc: 0.894737\n",
      "=====================================\n",
      "Validation AUC:0.8947368421052632\n",
      "=====================================\n"
     ]
    },
    {
     "name": "stderr",
     "output_type": "stream",
     "text": [
      "\u001b[32m[I 2022-09-15 16:48:12,051]\u001b[0m Trial 2 finished with value: 0.8947368421052632 and parameters: {'learning_rate': 0.012423708760618324, 'colsample_bytree': 0.7448402251997226, 'subsample': 0.49860645459550434}. Best is trial 0 with value: 0.9172932330827067.\u001b[0m\n"
     ]
    },
    {
     "name": "stdout",
     "output_type": "stream",
     "text": [
      "[20]\ttraining's auc: 0.97572\tvalid_1's auc: 0.868421\n",
      "[40]\ttraining's auc: 0.990054\tvalid_1's auc: 0.902256\n",
      "[60]\ttraining's auc: 0.994881\tvalid_1's auc: 0.898496\n",
      "[80]\ttraining's auc: 0.997514\tvalid_1's auc: 0.909774\n",
      "[100]\ttraining's auc: 0.999269\tvalid_1's auc: 0.921053\n",
      "=====================================\n",
      "Validation AUC:0.9172932330827068\n",
      "=====================================\n"
     ]
    },
    {
     "name": "stderr",
     "output_type": "stream",
     "text": [
      "\u001b[32m[I 2022-09-15 16:48:19,850]\u001b[0m Trial 3 finished with value: 0.9172932330827068 and parameters: {'learning_rate': 0.05172037508341735, 'colsample_bytree': 0.5645865666068733, 'subsample': 0.44657980932054714}. Best is trial 3 with value: 0.9172932330827068.\u001b[0m\n"
     ]
    },
    {
     "name": "stdout",
     "output_type": "stream",
     "text": [
      "[20]\ttraining's auc: 0.95305\tvalid_1's auc: 0.887218\n",
      "[40]\ttraining's auc: 0.961094\tvalid_1's auc: 0.87594\n",
      "=====================================\n",
      "Validation AUC:0.8984962406015037\n",
      "=====================================\n"
     ]
    },
    {
     "name": "stderr",
     "output_type": "stream",
     "text": [
      "\u001b[32m[I 2022-09-15 16:48:27,693]\u001b[0m Trial 4 finished with value: 0.8984962406015037 and parameters: {'learning_rate': 0.01038399829372392, 'colsample_bytree': 0.46949095344370356, 'subsample': 0.5012208812550029}. Best is trial 3 with value: 0.9172932330827068.\u001b[0m\n"
     ]
    },
    {
     "name": "stdout",
     "output_type": "stream",
     "text": [
      "[20]\ttraining's auc: 0.964019\tvalid_1's auc: 0.883459\n",
      "[40]\ttraining's auc: 0.977329\tvalid_1's auc: 0.87218\n",
      "=====================================\n",
      "Validation AUC:0.8984962406015037\n",
      "=====================================\n"
     ]
    },
    {
     "name": "stderr",
     "output_type": "stream",
     "text": [
      "\u001b[32m[I 2022-09-15 16:48:35,134]\u001b[0m Trial 5 finished with value: 0.8984962406015037 and parameters: {'learning_rate': 0.02945661833987922, 'colsample_bytree': 0.5225637763221862, 'subsample': 0.724601738692791}. Best is trial 3 with value: 0.9172932330827068.\u001b[0m\n"
     ]
    },
    {
     "name": "stdout",
     "output_type": "stream",
     "text": [
      "[20]\ttraining's auc: 0.967822\tvalid_1's auc: 0.868421\n",
      "[40]\ttraining's auc: 0.977329\tvalid_1's auc: 0.887218\n",
      "[60]\ttraining's auc: 0.983619\tvalid_1's auc: 0.87594\n",
      "[80]\ttraining's auc: 0.988591\tvalid_1's auc: 0.894737\n",
      "[100]\ttraining's auc: 0.991517\tvalid_1's auc: 0.902256\n",
      "=====================================\n",
      "Validation AUC:0.8984962406015038\n",
      "=====================================\n"
     ]
    },
    {
     "name": "stderr",
     "output_type": "stream",
     "text": [
      "\u001b[32m[I 2022-09-15 16:48:43,057]\u001b[0m Trial 6 finished with value: 0.8984962406015038 and parameters: {'learning_rate': 0.022404039821532176, 'colsample_bytree': 0.5908173181537603, 'subsample': 0.7072421827228921}. Best is trial 3 with value: 0.9172932330827068.\u001b[0m\n"
     ]
    },
    {
     "name": "stdout",
     "output_type": "stream",
     "text": [
      "[20]\ttraining's auc: 0.970528\tvalid_1's auc: 0.868421\n",
      "[40]\ttraining's auc: 0.978353\tvalid_1's auc: 0.890977\n",
      "[60]\ttraining's auc: 0.984935\tvalid_1's auc: 0.890977\n",
      "[80]\ttraining's auc: 0.98786\tvalid_1's auc: 0.894737\n",
      "[100]\ttraining's auc: 0.991517\tvalid_1's auc: 0.906015\n",
      "=====================================\n",
      "Validation AUC:0.9060150375939849\n",
      "=====================================\n"
     ]
    },
    {
     "name": "stderr",
     "output_type": "stream",
     "text": [
      "\u001b[32m[I 2022-09-15 16:48:51,154]\u001b[0m Trial 7 finished with value: 0.9060150375939849 and parameters: {'learning_rate': 0.022766650623132302, 'colsample_bytree': 0.7330369957223126, 'subsample': 0.7293983726006674}. Best is trial 3 with value: 0.9172932330827068.\u001b[0m\n"
     ]
    },
    {
     "name": "stdout",
     "output_type": "stream",
     "text": [
      "[20]\ttraining's auc: 0.977476\tvalid_1's auc: 0.887218\n",
      "[40]\ttraining's auc: 0.988153\tvalid_1's auc: 0.898496\n",
      "[60]\ttraining's auc: 0.994442\tvalid_1's auc: 0.898496\n",
      "[80]\ttraining's auc: 0.997367\tvalid_1's auc: 0.902256\n",
      "=====================================\n",
      "Validation AUC:0.9097744360902256\n",
      "=====================================\n"
     ]
    },
    {
     "name": "stderr",
     "output_type": "stream",
     "text": [
      "\u001b[32m[I 2022-09-15 16:48:58,735]\u001b[0m Trial 8 finished with value: 0.9097744360902256 and parameters: {'learning_rate': 0.04974454863479166, 'colsample_bytree': 0.9780676295645269, 'subsample': 0.5117619998773019}. Best is trial 3 with value: 0.9172932330827068.\u001b[0m\n"
     ]
    },
    {
     "name": "stdout",
     "output_type": "stream",
     "text": [
      "[20]\ttraining's auc: 0.962849\tvalid_1's auc: 0.849624\n",
      "[40]\ttraining's auc: 0.971771\tvalid_1's auc: 0.879699\n",
      "[60]\ttraining's auc: 0.974477\tvalid_1's auc: 0.913534\n",
      "[80]\ttraining's auc: 0.977987\tvalid_1's auc: 0.898496\n",
      "[100]\ttraining's auc: 0.982448\tvalid_1's auc: 0.913534\n",
      "=====================================\n",
      "Validation AUC:0.9135338345864661\n",
      "=====================================\n"
     ]
    },
    {
     "name": "stderr",
     "output_type": "stream",
     "text": [
      "\u001b[32m[I 2022-09-15 16:49:06,799]\u001b[0m Trial 9 finished with value: 0.9135338345864661 and parameters: {'learning_rate': 0.011115678045179418, 'colsample_bytree': 0.9217459477245878, 'subsample': 0.8186485799614089}. Best is trial 3 with value: 0.9172932330827068.\u001b[0m\n"
     ]
    },
    {
     "name": "stdout",
     "output_type": "stream",
     "text": [
      "AUC: 0.9172932330827068\n",
      "Best hyperparameters: {'learning_rate': 0.05172037508341735, 'colsample_bytree': 0.5645865666068733, 'subsample': 0.44657980932054714}\n"
     ]
    }
   ],
   "source": [
    "# Create a study object and optimize the objective function.\n",
    "study = optuna.create_study(direction='maximize')\n",
    "study.optimize(objective, n_trials=10)\n",
    "trial = study.best_trial\n",
    "print('AUC: {}'.format(trial.value))\n",
    "print(\"Best hyperparameters: {}\".format(trial.params))"
   ]
  },
  {
   "cell_type": "markdown",
   "metadata": {},
   "source": [
    "## Load best lightgbm model\n",
    "\n",
    "Check Mlflow UI and pick the best model for model deployment"
   ]
  },
  {
   "cell_type": "code",
   "execution_count": 22,
   "metadata": {},
   "outputs": [
    {
     "data": {
      "text/plain": [
       "array([0, 1, 0, 0, 0, 1, 0, 0, 0, 0, 0, 0, 0, 0, 0, 1, 0, 0, 0, 1, 0, 0,\n",
       "       0, 1, 1, 0, 0, 0, 0, 0, 0, 1, 1], dtype=int64)"
      ]
     },
     "execution_count": 22,
     "metadata": {},
     "output_type": "execute_result"
    }
   ],
   "source": [
    "# Load best model\n",
    "lgb_best_model = mlflow.sklearn.load_model(\"D:/Practice/MLflow/Campus recruitment/mlflow-run/c0db9b1be4ff46a9ba009476ff6ca334/artifacts/model\")\n",
    "\n",
    "# Make prediction aganist Validation data\n",
    "lgb_best_val_prediction = lgb_best_model.predict(X_valid)\n",
    "lgb_best_val_prediction"
   ]
  },
  {
   "cell_type": "markdown",
   "metadata": {},
   "source": [
    "## Reference\n",
    "\n",
    "### Model experimentation\n",
    "https://www.mlflow.org/docs/latest/tracking.html#\n",
    "\n",
    "### Hyperparameter Optimization\n",
    "https://github.com/optuna/optuna"
   ]
  }
 ],
 "metadata": {
  "kernelspec": {
   "display_name": "Python 3 (ipykernel)",
   "language": "python",
   "name": "python3"
  },
  "language_info": {
   "codemirror_mode": {
    "name": "ipython",
    "version": 3
   },
   "file_extension": ".py",
   "mimetype": "text/x-python",
   "name": "python",
   "nbconvert_exporter": "python",
   "pygments_lexer": "ipython3",
   "version": "3.9.12"
  }
 },
 "nbformat": 4,
 "nbformat_minor": 4
}
